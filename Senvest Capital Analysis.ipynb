{
 "cells": [
  {
   "cell_type": "markdown",
   "metadata": {},
   "source": [
    "# Data Analysis for Senvest Capital\n",
    "#### This notebook provides various analyses on the financial data of senvest capital."
   ]
  },
  {
   "cell_type": "markdown",
   "metadata": {},
   "source": [
    "Relevant imports..."
   ]
  },
  {
   "cell_type": "code",
   "execution_count": 1,
   "metadata": {
    "collapsed": false
   },
   "outputs": [
    {
     "name": "stdout",
     "output_type": "stream",
     "text": [
      "Using matplotlib backend: TkAgg\n",
      "Populating the interactive namespace from numpy and matplotlib\n"
     ]
    }
   ],
   "source": [
    "%pylab\n",
    "%matplotlib inline\n",
    "plt.style.use('ggplot')\n",
    "import pandas as pd\n",
    "import seaborn as sns"
   ]
  },
  {
   "cell_type": "code",
   "execution_count": 2,
   "metadata": {
    "collapsed": false
   },
   "outputs": [],
   "source": [
    "filepath = '/home/matthew/Senvest/'\n",
    "fin_df = pd.read_csv(filepath + 'Financial Data.csv',index_col=0)\n",
    "sec = pd.read_csv(filepath + 'StockInfo.csv')\n",
    "tsx = pd.read_csv(filepath + 'TSX.csv')"
   ]
  },
  {
   "cell_type": "code",
   "execution_count": 3,
   "metadata": {
    "collapsed": false
   },
   "outputs": [],
   "source": [
    "##Reverse column order (so years are in correct order)\n",
    "fin_df = fin_df.ix[::,::-1]\n",
    "stock_info = sec.reindex(sec.index[::-1])\n",
    "stock_info.index = range(len(stock_info))\n",
    "tsx_info = tsx.iloc[::-1]\n",
    "tsx_info.index = range(len(tsx_info))\n",
    "\n",
    "##Split operational and financial info\n",
    "operation_info = fin_df.transpose()[fin_df.index[:3]]\n",
    "financial_data = fin_df.transpose()[fin_df.index[3:]]\n",
    "\n",
    "\n",
    "\n"
   ]
  },
  {
   "cell_type": "markdown",
   "metadata": {},
   "source": [
    "## Getting the operational and financial information\n",
    "Display the relevant data in tables."
   ]
  },
  {
   "cell_type": "code",
   "execution_count": 4,
   "metadata": {
    "collapsed": false
   },
   "outputs": [
    {
     "data": {
      "text/html": [
       "<div>\n",
       "<table border=\"1\" class=\"dataframe\">\n",
       "  <thead>\n",
       "    <tr style=\"text-align: right;\">\n",
       "      <th></th>\n",
       "      <th>Total Revenues &amp; Investment Gains</th>\n",
       "      <th>Net Income Attributable to Common Shareholders</th>\n",
       "      <th>Diluted Earnings Per Share</th>\n",
       "    </tr>\n",
       "  </thead>\n",
       "  <tbody>\n",
       "    <tr>\n",
       "      <th>2011</th>\n",
       "      <td>84712.0</td>\n",
       "      <td>-80682.0</td>\n",
       "      <td>-28.61</td>\n",
       "    </tr>\n",
       "    <tr>\n",
       "      <th>2012</th>\n",
       "      <td>154035.0</td>\n",
       "      <td>73964.0</td>\n",
       "      <td>25.65</td>\n",
       "    </tr>\n",
       "    <tr>\n",
       "      <th>2013</th>\n",
       "      <td>489676.0</td>\n",
       "      <td>206516.0</td>\n",
       "      <td>73.20</td>\n",
       "    </tr>\n",
       "    <tr>\n",
       "      <th>2014</th>\n",
       "      <td>297551.0</td>\n",
       "      <td>117298.0</td>\n",
       "      <td>41.26</td>\n",
       "    </tr>\n",
       "    <tr>\n",
       "      <th>2015</th>\n",
       "      <td>-166763.0</td>\n",
       "      <td>-99826.0</td>\n",
       "      <td>-35.39</td>\n",
       "    </tr>\n",
       "  </tbody>\n",
       "</table>\n",
       "</div>"
      ],
      "text/plain": [
       "      Total Revenues & Investment Gains  \\\n",
       "2011                            84712.0   \n",
       "2012                           154035.0   \n",
       "2013                           489676.0   \n",
       "2014                           297551.0   \n",
       "2015                          -166763.0   \n",
       "\n",
       "      Net Income Attributable to Common Shareholders  \\\n",
       "2011                                        -80682.0   \n",
       "2012                                         73964.0   \n",
       "2013                                        206516.0   \n",
       "2014                                        117298.0   \n",
       "2015                                        -99826.0   \n",
       "\n",
       "      Diluted Earnings Per Share  \n",
       "2011                      -28.61  \n",
       "2012                       25.65  \n",
       "2013                       73.20  \n",
       "2014                       41.26  \n",
       "2015                      -35.39  "
      ]
     },
     "execution_count": 4,
     "metadata": {},
     "output_type": "execute_result"
    }
   ],
   "source": [
    "operation_info"
   ]
  },
  {
   "cell_type": "code",
   "execution_count": 5,
   "metadata": {
    "collapsed": false
   },
   "outputs": [
    {
     "data": {
      "text/html": [
       "<div>\n",
       "<table border=\"1\" class=\"dataframe\">\n",
       "  <thead>\n",
       "    <tr style=\"text-align: right;\">\n",
       "      <th></th>\n",
       "      <th>Total Assets</th>\n",
       "      <th>Shareholders’ Equity</th>\n",
       "    </tr>\n",
       "  </thead>\n",
       "  <tbody>\n",
       "    <tr>\n",
       "      <th>2011</th>\n",
       "      <td>544426.0</td>\n",
       "      <td>284685.0</td>\n",
       "    </tr>\n",
       "    <tr>\n",
       "      <th>2012</th>\n",
       "      <td>728409.0</td>\n",
       "      <td>358831.0</td>\n",
       "    </tr>\n",
       "    <tr>\n",
       "      <th>2013</th>\n",
       "      <td>1400326.0</td>\n",
       "      <td>630362.0</td>\n",
       "    </tr>\n",
       "    <tr>\n",
       "      <th>2014</th>\n",
       "      <td>2020142.0</td>\n",
       "      <td>821740.0</td>\n",
       "    </tr>\n",
       "    <tr>\n",
       "      <th>2015</th>\n",
       "      <td>2146380.0</td>\n",
       "      <td>856290.0</td>\n",
       "    </tr>\n",
       "  </tbody>\n",
       "</table>\n",
       "</div>"
      ],
      "text/plain": [
       "      Total Assets  Shareholders’ Equity\n",
       "2011      544426.0              284685.0\n",
       "2012      728409.0              358831.0\n",
       "2013     1400326.0              630362.0\n",
       "2014     2020142.0              821740.0\n",
       "2015     2146380.0              856290.0"
      ]
     },
     "execution_count": 5,
     "metadata": {},
     "output_type": "execute_result"
    }
   ],
   "source": [
    "financial_data"
   ]
  },
  {
   "cell_type": "markdown",
   "metadata": {},
   "source": [
    "## Analyzing the stock information \n",
    "First, we'll describe the data. We'll be using the TSX/S&P Composite as a benchmark, and use it to determine the companies beta and visualize the stock movements."
   ]
  },
  {
   "cell_type": "code",
   "execution_count": 6,
   "metadata": {
    "collapsed": false
   },
   "outputs": [
    {
     "data": {
      "text/html": [
       "<div>\n",
       "<table border=\"1\" class=\"dataframe\">\n",
       "  <thead>\n",
       "    <tr style=\"text-align: right;\">\n",
       "      <th></th>\n",
       "      <th>Open</th>\n",
       "      <th>Close</th>\n",
       "    </tr>\n",
       "  </thead>\n",
       "  <tbody>\n",
       "    <tr>\n",
       "      <th>count</th>\n",
       "      <td>976.000000</td>\n",
       "      <td>976.000000</td>\n",
       "    </tr>\n",
       "    <tr>\n",
       "      <th>mean</th>\n",
       "      <td>140.541711</td>\n",
       "      <td>140.594867</td>\n",
       "    </tr>\n",
       "    <tr>\n",
       "      <th>std</th>\n",
       "      <td>31.654042</td>\n",
       "      <td>31.715283</td>\n",
       "    </tr>\n",
       "    <tr>\n",
       "      <th>min</th>\n",
       "      <td>68.010002</td>\n",
       "      <td>68.010002</td>\n",
       "    </tr>\n",
       "    <tr>\n",
       "      <th>25%</th>\n",
       "      <td>127.010002</td>\n",
       "      <td>126.690002</td>\n",
       "    </tr>\n",
       "    <tr>\n",
       "      <th>50%</th>\n",
       "      <td>149.915001</td>\n",
       "      <td>149.720001</td>\n",
       "    </tr>\n",
       "    <tr>\n",
       "      <th>75%</th>\n",
       "      <td>159.000000</td>\n",
       "      <td>159.000000</td>\n",
       "    </tr>\n",
       "    <tr>\n",
       "      <th>max</th>\n",
       "      <td>200.350006</td>\n",
       "      <td>200.000000</td>\n",
       "    </tr>\n",
       "  </tbody>\n",
       "</table>\n",
       "</div>"
      ],
      "text/plain": [
       "             Open       Close\n",
       "count  976.000000  976.000000\n",
       "mean   140.541711  140.594867\n",
       "std     31.654042   31.715283\n",
       "min     68.010002   68.010002\n",
       "25%    127.010002  126.690002\n",
       "50%    149.915001  149.720001\n",
       "75%    159.000000  159.000000\n",
       "max    200.350006  200.000000"
      ]
     },
     "execution_count": 6,
     "metadata": {},
     "output_type": "execute_result"
    }
   ],
   "source": [
    "stock_info[['Open','Close']].describe()"
   ]
  },
  {
   "cell_type": "code",
   "execution_count": 7,
   "metadata": {
    "collapsed": false
   },
   "outputs": [
    {
     "data": {
      "text/html": [
       "<div>\n",
       "<table border=\"1\" class=\"dataframe\">\n",
       "  <thead>\n",
       "    <tr style=\"text-align: right;\">\n",
       "      <th></th>\n",
       "      <th>Date</th>\n",
       "      <th>Open</th>\n",
       "      <th>High</th>\n",
       "      <th>Low</th>\n",
       "      <th>Close</th>\n",
       "      <th>Volume</th>\n",
       "      <th>Adj Close</th>\n",
       "    </tr>\n",
       "  </thead>\n",
       "  <tbody>\n",
       "    <tr>\n",
       "      <th>0</th>\n",
       "      <td>2013-01-02</td>\n",
       "      <td>71.0</td>\n",
       "      <td>71.0</td>\n",
       "      <td>71.0</td>\n",
       "      <td>71.0</td>\n",
       "      <td>0</td>\n",
       "      <td>71.0</td>\n",
       "    </tr>\n",
       "    <tr>\n",
       "      <th>1</th>\n",
       "      <td>2013-01-03</td>\n",
       "      <td>71.0</td>\n",
       "      <td>71.0</td>\n",
       "      <td>71.0</td>\n",
       "      <td>71.0</td>\n",
       "      <td>100</td>\n",
       "      <td>71.0</td>\n",
       "    </tr>\n",
       "    <tr>\n",
       "      <th>2</th>\n",
       "      <td>2013-01-04</td>\n",
       "      <td>71.0</td>\n",
       "      <td>71.0</td>\n",
       "      <td>71.0</td>\n",
       "      <td>71.0</td>\n",
       "      <td>0</td>\n",
       "      <td>71.0</td>\n",
       "    </tr>\n",
       "    <tr>\n",
       "      <th>3</th>\n",
       "      <td>2013-01-07</td>\n",
       "      <td>71.0</td>\n",
       "      <td>71.0</td>\n",
       "      <td>71.0</td>\n",
       "      <td>71.0</td>\n",
       "      <td>0</td>\n",
       "      <td>71.0</td>\n",
       "    </tr>\n",
       "    <tr>\n",
       "      <th>4</th>\n",
       "      <td>2013-01-08</td>\n",
       "      <td>71.0</td>\n",
       "      <td>71.0</td>\n",
       "      <td>71.0</td>\n",
       "      <td>71.0</td>\n",
       "      <td>0</td>\n",
       "      <td>71.0</td>\n",
       "    </tr>\n",
       "  </tbody>\n",
       "</table>\n",
       "</div>"
      ],
      "text/plain": [
       "         Date  Open  High   Low  Close  Volume  Adj Close\n",
       "0  2013-01-02  71.0  71.0  71.0   71.0       0       71.0\n",
       "1  2013-01-03  71.0  71.0  71.0   71.0     100       71.0\n",
       "2  2013-01-04  71.0  71.0  71.0   71.0       0       71.0\n",
       "3  2013-01-07  71.0  71.0  71.0   71.0       0       71.0\n",
       "4  2013-01-08  71.0  71.0  71.0   71.0       0       71.0"
      ]
     },
     "execution_count": 7,
     "metadata": {},
     "output_type": "execute_result"
    }
   ],
   "source": [
    "stock_info.head()"
   ]
  },
  {
   "cell_type": "code",
   "execution_count": 8,
   "metadata": {
    "collapsed": false
   },
   "outputs": [
    {
     "data": {
      "text/html": [
       "<div>\n",
       "<table border=\"1\" class=\"dataframe\">\n",
       "  <thead>\n",
       "    <tr style=\"text-align: right;\">\n",
       "      <th></th>\n",
       "      <th>Date</th>\n",
       "      <th>Open</th>\n",
       "      <th>High</th>\n",
       "      <th>Low</th>\n",
       "      <th>Close</th>\n",
       "      <th>Volume</th>\n",
       "      <th>Adj Close</th>\n",
       "    </tr>\n",
       "  </thead>\n",
       "  <tbody>\n",
       "    <tr>\n",
       "      <th>0</th>\n",
       "      <td>2013-01-02</td>\n",
       "      <td>12571.799805</td>\n",
       "      <td>12588.799805</td>\n",
       "      <td>12439.299805</td>\n",
       "      <td>12540.799805</td>\n",
       "      <td>149629700</td>\n",
       "      <td>12540.799805</td>\n",
       "    </tr>\n",
       "    <tr>\n",
       "      <th>1</th>\n",
       "      <td>2013-01-03</td>\n",
       "      <td>12539.099609</td>\n",
       "      <td>12540.599609</td>\n",
       "      <td>12430.400391</td>\n",
       "      <td>12470.400391</td>\n",
       "      <td>160667700</td>\n",
       "      <td>12470.400391</td>\n",
       "    </tr>\n",
       "    <tr>\n",
       "      <th>2</th>\n",
       "      <td>2013-01-04</td>\n",
       "      <td>12435.099609</td>\n",
       "      <td>12540.799805</td>\n",
       "      <td>12435.099609</td>\n",
       "      <td>12540.799805</td>\n",
       "      <td>133007300</td>\n",
       "      <td>12540.799805</td>\n",
       "    </tr>\n",
       "    <tr>\n",
       "      <th>3</th>\n",
       "      <td>2013-01-07</td>\n",
       "      <td>12503.200195</td>\n",
       "      <td>12540.799805</td>\n",
       "      <td>12448.200195</td>\n",
       "      <td>12499.599609</td>\n",
       "      <td>152628800</td>\n",
       "      <td>12499.599609</td>\n",
       "    </tr>\n",
       "    <tr>\n",
       "      <th>4</th>\n",
       "      <td>2013-01-08</td>\n",
       "      <td>12490.400391</td>\n",
       "      <td>12504.799805</td>\n",
       "      <td>12456.000000</td>\n",
       "      <td>12504.799805</td>\n",
       "      <td>168870400</td>\n",
       "      <td>12504.799805</td>\n",
       "    </tr>\n",
       "  </tbody>\n",
       "</table>\n",
       "</div>"
      ],
      "text/plain": [
       "         Date          Open          High           Low         Close  \\\n",
       "0  2013-01-02  12571.799805  12588.799805  12439.299805  12540.799805   \n",
       "1  2013-01-03  12539.099609  12540.599609  12430.400391  12470.400391   \n",
       "2  2013-01-04  12435.099609  12540.799805  12435.099609  12540.799805   \n",
       "3  2013-01-07  12503.200195  12540.799805  12448.200195  12499.599609   \n",
       "4  2013-01-08  12490.400391  12504.799805  12456.000000  12504.799805   \n",
       "\n",
       "      Volume     Adj Close  \n",
       "0  149629700  12540.799805  \n",
       "1  160667700  12470.400391  \n",
       "2  133007300  12540.799805  \n",
       "3  152628800  12499.599609  \n",
       "4  168870400  12504.799805  "
      ]
     },
     "execution_count": 8,
     "metadata": {},
     "output_type": "execute_result"
    }
   ],
   "source": [
    "tsx_info.head()\n"
   ]
  },
  {
   "cell_type": "markdown",
   "metadata": {},
   "source": [
    "### Let's map the changes in closing price.."
   ]
  },
  {
   "cell_type": "code",
   "execution_count": 9,
   "metadata": {
    "collapsed": false
   },
   "outputs": [],
   "source": [
    "## Drop null row (just last row)\n",
    "stock_info = stock_info.dropna()\n",
    "try:\n",
    "    dropped_05152015 = stock_info.drop(520)\n",
    "    dropped_05152015.index = range(len(dropped_05152015))\n",
    "except ValueError:\n",
    "    print(\"Already dropped that index\")\n",
    "    print (ValueError)\n",
    "\n",
    "percent_changed = pd.DataFrame()\n",
    "percent_changed['SEC'] = dropped_05152015['Adj Close'].pct_change()\n",
    "percent_changed['TSX'] = tsx_info['Adj Close'].pct_change()"
   ]
  },
  {
   "cell_type": "code",
   "execution_count": 10,
   "metadata": {
    "collapsed": false
   },
   "outputs": [
    {
     "name": "stdout",
     "output_type": "stream",
     "text": [
      "Beta is 0.2806179890019744\n"
     ]
    }
   ],
   "source": [
    "percent_changed = percent_changed.dropna()\n",
    "\n",
    "cov = np.cov(percent_changed['TSX'],percent_changed['SEC'])[0][1]/np.var(percent_changed['TSX'])\n",
    "print (\"Beta is {}\".format(cov))"
   ]
  },
  {
   "cell_type": "markdown",
   "metadata": {},
   "source": [
    "## The Beta is ~.28\n",
    "This was calculated via the formula: covar(% Change in SEC Price, % Change in TSX Price)/var(% Change in TSX price)"
   ]
  },
  {
   "cell_type": "markdown",
   "metadata": {},
   "source": [
    "## Visualizing Senvest VS TSX/S&P Composite"
   ]
  },
  {
   "cell_type": "code",
   "execution_count": 11,
   "metadata": {
    "collapsed": false
   },
   "outputs": [
    {
     "data": {
      "image/png": "[encoded data removed]",
      "text/plain": [
       "<matplotlib.figure.Figure at 0x7fa2425840b8>"
      ]
     },
     "metadata": {},
     "output_type": "display_data"
    }
   ],
   "source": [
    "figure = plt.figure()\n",
    "ax1 = figure.add_subplot(111)\n",
    "line1, = ax1.plot(stock_info['Close'],'xb-')\n",
    "ylabel(\"SEC Price\")\n",
    "\n",
    "\n",
    "ax2 = figure.add_subplot(111,sharex=ax1,frameon=False)\n",
    "line2, = ax2.plot(tsx_info['Close'],'xr-')\n",
    "ax2.yaxis.tick_right()\n",
    "ax2.yaxis.set_label_position(\"right\")\n",
    "ylabel(\"TSX/S&P Price\")\n",
    "legend((line1,line2),('SEC','TSX/S&P'))\n",
    "\n",
    "\n",
    "plt.xlabel(\"Days since Jan 2, 2013\")\n",
    "\n",
    "ax1.grid(False)\n",
    "ax2.grid(False)\n",
    "plt.title(\"SEC Price vs TSX Price\")\n",
    "show()\n"
   ]
  },
  {
   "cell_type": "code",
   "execution_count": null,
   "metadata": {
    "collapsed": false
   },
   "outputs": [],
   "source": []
  }
 ],
 "metadata": {
  "kernelspec": {
   "display_name": "Python 3",
   "language": "python",
   "name": "python3"
  },
  "language_info": {
   "codemirror_mode": {
    "name": "ipython",
    "version": 3
   },
   "file_extension": ".py",
   "mimetype": "text/x-python",
   "name": "python",
   "nbconvert_exporter": "python",
   "pygments_lexer": "ipython3",
   "version": "3.5.2"
  }
 },
 "nbformat": 4,
 "nbformat_minor": 1
}
